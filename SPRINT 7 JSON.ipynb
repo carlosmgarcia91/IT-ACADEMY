{
 "cells": [
  {
   "cell_type": "markdown",
   "metadata": {},
   "source": [
    "# Nivel 1 Ej 1"
   ]
  },
  {
   "cell_type": "code",
   "execution_count": 26,
   "metadata": {},
   "outputs": [],
   "source": [
    "def calcular_imc():\n",
    "    try:\n",
    "        \"\"\"\n",
    "        Esta función calcula el IMC dado un peso y altura\n",
    "        \"\"\"\n",
    "\n",
    "        # Solicitar datos al usuario\n",
    "        peso = input(\"¿Cuál es su peso en kilogramos? \").strip()\n",
    "        altura = input(\"¿Cuál es su altura en centímetros? \").strip()\n",
    "\n",
    "        # Validar que la entrada sea numérica\n",
    "        if not peso.replace('.', '', 1).isdigit() or not altura.replace('.', '', 1).isdigit():\n",
    "            raise ValueError(\"Las entradas deben ser números válidos.\")\n",
    "\n",
    "        # Convertir a float\n",
    "        peso1 = float(peso)\n",
    "        altura1 = float(altura) / 100  # Convertir centímetros a metros\n",
    "\n",
    "        # Calcular IMC\n",
    "        resultado = peso1 / (altura1 ** 2)\n",
    "        IMC = round(resultado, 2)\n",
    "\n",
    "        print(f\"Su IMC resultante es de: {IMC}\")\n",
    "\n",
    "        # Clasificación del IMC\n",
    "        if IMC > 29.9:\n",
    "            print(\"Sufre obesidad\")\n",
    "        elif  IMC > 24.9:\n",
    "            print(\"Tiene sobrepreso\")\n",
    "        elif IMC > 18.5:\n",
    "            print(\"Peso normal\")\n",
    "        else:\n",
    "            print(\"Poco peso\")\n",
    "\n",
    "    except ValueError as e:\n",
    "        print(f\"Error: {e}. Por favor, ingrese datos válidos.\")\n"
   ]
  },
  {
   "cell_type": "code",
   "execution_count": 27,
   "metadata": {},
   "outputs": [
    {
     "name": "stdout",
     "output_type": "stream",
     "text": [
      "Su IMC resultante es de: 28.04\n",
      "Tiene sobrepreso\n"
     ]
    }
   ],
   "source": [
    "mi_imc = calcular_imc()\n",
    "\n",
    "\n"
   ]
  },
  {
   "cell_type": "markdown",
   "metadata": {},
   "source": [
    "# Nivel 1 EJ 2 "
   ]
  },
  {
   "cell_type": "code",
   "execution_count": 28,
   "metadata": {},
   "outputs": [],
   "source": [
    "def conversor_temperatura():\n",
    "\n",
    "    try:\n",
    "        \"\"\"\n",
    "        Esta función convierte la temperatura a otras medidas, dependiendo del tipo de grado ingresado\n",
    "        \"\"\"\n",
    "\n",
    "        datos = input(\"¿Qué tipo de datos va a introducir? C para Celsius, F para Fahrenheit, K para Kelvin\").strip().upper()\n",
    "        datos2 = input(\"¿Cuál es la temperatura? \").strip()\n",
    "\n",
    "        \n",
    "        if not datos2.replace('.', '', 1).isdigit():\n",
    "            raise ValueError(\"La temperatura debe ser un número válido.\")\n",
    "\n",
    "        temperatura = float(datos2)\n",
    "\n",
    "        \n",
    "        datos_validos = {\"C\", \"K\", \"F\"}\n",
    "\n",
    "        if datos not in datos_validos:\n",
    "            raise ValueError(f\"Entrada no válida: '{datos}'. Por favor introduzca uno de los valores válidos: {datos_validos}\")\n",
    "\n",
    "        \n",
    "        if datos == \"C\":  \n",
    "            fahrenheit = round((temperatura * 9/5) + 32, 2)\n",
    "            kelvin = round(temperatura + 273.15, 2)\n",
    "            print(f\"La temperatura es de {fahrenheit} grados Fahrenheit.\")\n",
    "            print(f\"La temperatura es de {kelvin} grados Kelvin.\")\n",
    "        \n",
    "        elif datos == \"K\":  \n",
    "            celsius = round(temperatura - 273.15, 2)\n",
    "            fahrenheit = round((celsius * 9/5) + 32, 2)\n",
    "            print(f\"La temperatura es de {celsius} grados Celsius.\")\n",
    "            print(f\"La temperatura es de {fahrenheit} grados Fahrenheit.\")\n",
    "        \n",
    "        elif datos == \"F\":\n",
    "            celsius = round((temperatura -32) * (9/5))\n",
    "            kelvin = round((temperatura -32) / 1.8 + 237.15)\n",
    "            print(f\"La temperatura es de {celsius} grados Celsius.\")\n",
    "            print(f\"La temperatura es de {kelvin} grados Fahrenheit.\")\n",
    "\n",
    "\n",
    "    except ValueError as e:\n",
    "        print(f\"Error: {e}\")\n",
    "\n",
    "    except Exception as e:\n",
    "        print(f\"Ha ocurrido un error inesperado: {e}\")"
   ]
  },
  {
   "cell_type": "code",
   "execution_count": 29,
   "metadata": {},
   "outputs": [
    {
     "name": "stdout",
     "output_type": "stream",
     "text": [
      "La temperatura es de 82.4 grados Fahrenheit.\n",
      "La temperatura es de 301.15 grados Kelvin.\n"
     ]
    }
   ],
   "source": [
    "conversor_temperatura()\n"
   ]
  },
  {
   "cell_type": "markdown",
   "metadata": {},
   "source": [
    "# Nivel 1 EJ 3\n"
   ]
  },
  {
   "cell_type": "code",
   "execution_count": 30,
   "metadata": {},
   "outputs": [],
   "source": [
    "def contador_palabras():\n",
    "\n",
    "    \"\"\"\n",
    "    Esta función calcula el número de palabras, espacios y letras de un texto\n",
    "    \"\"\"\n",
    "    \n",
    "\n",
    "    texto = input(\"Ingrese un texto por favor\")\n",
    "\n",
    "    total_palabras = {}\n",
    "\n",
    "    if texto == \"\":\n",
    "        print(\"No has ingresado ningún texto \\n\")\n",
    "\n",
    "    else:\n",
    "        for palabra in texto.split():\n",
    "            if palabra in total_palabras:\n",
    "                total_palabras[palabra] += 1\n",
    "            else:\n",
    "                total_palabras[palabra] =1\n",
    "\n",
    "    print(total_palabras)\n",
    "\n",
    "\n"
   ]
  },
  {
   "cell_type": "code",
   "execution_count": 31,
   "metadata": {},
   "outputs": [
    {
     "name": "stdout",
     "output_type": "stream",
     "text": [
      "{'hola': 1, 'que': 1, 'tal': 1, 'esta': 1, 'la': 1, 'keiko?': 1}\n"
     ]
    }
   ],
   "source": [
    "ejercicio = contador_palabras()\n",
    "\n",
    "ejercicio"
   ]
  },
  {
   "cell_type": "markdown",
   "metadata": {},
   "source": [
    "# Nivel 1 EJ 4"
   ]
  },
  {
   "cell_type": "code",
   "execution_count": 32,
   "metadata": {},
   "outputs": [],
   "source": [
    "def revertir_diccionario(diccionario):\n",
    "\n",
    "    \"\"\"\n",
    "    Esta función revierte las claves y valores de un diccionario. En caso de valor convertido a clave repetido, lanza mensaje de error. \n",
    "    \"\"\"\n",
    "\n",
    "    nuevo_diccionario = {}\n",
    "    claves_vistas = set()  \n",
    "    valores_vistos = set()  \n",
    "\n",
    "    for clave, valor in diccionario.items():\n",
    "        if valor in valores_vistos:\n",
    "            print(f\"Error: El valor '{valor}' ya está repetido.\")\n",
    "        else:\n",
    "            nuevo_diccionario[valor] = clave\n",
    "            claves_vistas.add(clave)\n",
    "            valores_vistos.add(valor)\n",
    "\n",
    "\n",
    "    return nuevo_diccionario\n",
    "\n"
   ]
  },
  {
   "cell_type": "code",
   "execution_count": 33,
   "metadata": {},
   "outputs": [],
   "source": [
    "reverse_dictionary = ({\"x\": \"apple\", \"y\": \"banana\", \"z\": \"banana\"})"
   ]
  },
  {
   "cell_type": "code",
   "execution_count": 34,
   "metadata": {},
   "outputs": [
    {
     "name": "stdout",
     "output_type": "stream",
     "text": [
      "Error: El valor 'banana' ya está repetido.\n"
     ]
    },
    {
     "data": {
      "text/plain": [
       "{'apple': 'x', 'banana': 'y'}"
      ]
     },
     "execution_count": 34,
     "metadata": {},
     "output_type": "execute_result"
    }
   ],
   "source": [
    "revertir_diccionario(reverse_dictionary)"
   ]
  },
  {
   "cell_type": "markdown",
   "metadata": {},
   "source": [
    "# Nivel 2 EJ1 \n",
    "\n",
    "en caso de estar repetido, almacenamos el valor en una lista\n",
    "ej: banana: [y, z]\n",
    "\n",
    "\n"
   ]
  },
  {
   "cell_type": "code",
   "execution_count": 35,
   "metadata": {},
   "outputs": [],
   "source": [
    "import collections"
   ]
  },
  {
   "cell_type": "code",
   "execution_count": 36,
   "metadata": {},
   "outputs": [],
   "source": [
    "def revertir_diccionario2(diccionario):\n",
    "   \n",
    "    \"\"\"\n",
    "    Esta función revierte las claves y valores de un diccionario. En caso de valor convertido a clave repetido, los almacena en uns lista. \n",
    "    \"\"\"\n",
    "    \n",
    "    nuevo_diccionario = {}\n",
    "    \n",
    "    contador_valores = collections.Counter(diccionario.values())\n",
    "\n",
    "    for x, y in diccionario.items():\n",
    "        if contador_valores[y] == 1:\n",
    "          nuevo_diccionario[y] = x\n",
    "\n",
    "        else:\n",
    "          if y not in nuevo_diccionario:\n",
    "             nuevo_diccionario[y] = []\n",
    "          nuevo_diccionario[y].append(x)\n",
    "            \n",
    "\n",
    "            \n",
    "            \n",
    "\n",
    "\n",
    "    return nuevo_diccionario\n",
    "\n"
   ]
  },
  {
   "cell_type": "code",
   "execution_count": 37,
   "metadata": {},
   "outputs": [],
   "source": [
    "reverse_dictionary = ({\"x\": \"apple\", \"y\": \"banana\", \"z\": \"banana\"})"
   ]
  },
  {
   "cell_type": "code",
   "execution_count": 38,
   "metadata": {},
   "outputs": [
    {
     "data": {
      "text/plain": [
       "{'apple': 'x', 'banana': ['y', 'z']}"
      ]
     },
     "execution_count": 38,
     "metadata": {},
     "output_type": "execute_result"
    }
   ],
   "source": [
    "revertir_diccionario2(reverse_dictionary)"
   ]
  },
  {
   "cell_type": "markdown",
   "metadata": {},
   "source": [
    "# Nivel 2 EJ 2\n",
    "\n",
    "[ '1.3', 'one' , '1e10' , 'seven', '3-1/2', ('2',1,1.4,'not-a-number'), [1,2,'3','3.4']]\n",
    "\n",
    "valores, valores, tupla y lista\n",
    "\n",
    "1 lista = floats\n",
    "1 lista = resto = seven, 3-1/2, not a number, one\n",
    "\n"
   ]
  },
  {
   "cell_type": "code",
   "execution_count": 39,
   "metadata": {},
   "outputs": [],
   "source": [
    "ejercicio2 = [ '1.3', 'one' , '1e10' , 'seven', '3-1/2', ('2',1,1.4,'not-a-number'), [1,2,'3','3.4']]"
   ]
  },
  {
   "cell_type": "code",
   "execution_count": 40,
   "metadata": {},
   "outputs": [],
   "source": [
    "\n",
    "def conversion_numeros(elementos):\n",
    "\n",
    "    \n",
    "    \"\"\"\n",
    "    Identifica y separa números convertibles de elementos no convertibles en listas o diccionarios.\n",
    "    \"\"\"\n",
    "    \n",
    "    convertidos = []\n",
    "    no_convertidos= []\n",
    "\n",
    "    for x in elementos:\n",
    "\n",
    "\n",
    "        if isinstance(x, (tuple, list)):\n",
    "            \n",
    "            for y in x:\n",
    "                try: \n",
    "                    float(y)\n",
    "                    convertidos.append(y)\n",
    "                except:\n",
    "                    no_convertidos.append(y)\n",
    "        else: \n",
    "\n",
    "            try:\n",
    "                float(x)\n",
    "                convertidos.append(x)\n",
    "            except:\n",
    "                no_convertidos.append(x)\n",
    "\n",
    "    return (convertidos, no_convertidos)"
   ]
  },
  {
   "cell_type": "code",
   "execution_count": 41,
   "metadata": {},
   "outputs": [
    {
     "data": {
      "text/plain": [
       "(['1.3', '1e10', '2', 1, 1.4, 1, 2, '3', '3.4'],\n",
       " ['one', 'seven', '3-1/2', 'not-a-number'])"
      ]
     },
     "execution_count": 41,
     "metadata": {},
     "output_type": "execute_result"
    }
   ],
   "source": [
    "prueba = conversion_numeros(ejercicio2)\n",
    "\n",
    "prueba"
   ]
  },
  {
   "cell_type": "markdown",
   "metadata": {},
   "source": [
    "# Nivel 3 EJ 1"
   ]
  },
  {
   "cell_type": "code",
   "execution_count": 42,
   "metadata": {},
   "outputs": [],
   "source": [
    "\n",
    "ruta_archivo = r\"C:\\Users\\Carlo\\Downloads\\tu_me_quieres_blanca.txt\"\n",
    "file = open(ruta_archivo, \"r\", encoding=\"utf-8\")"
   ]
  },
  {
   "cell_type": "code",
   "execution_count": 43,
   "metadata": {},
   "outputs": [
    {
     "name": "stdout",
     "output_type": "stream",
     "text": [
      "Tú me quieres alba,\n",
      "me quieres de espumas,\n",
      "me quieres de nácar.\n",
      "Que sea azucena\n",
      "Sobre todas, casta.\n",
      "De perfume tenue.\n",
      "Corola cerrada .\n",
      "\n",
      "Ni un rayo de luna\n",
      "filtrado me haya.\n",
      "Ni una margarita\n",
      "se diga mi hermana.\n",
      "Tú me quieres nívea,\n",
      "tú me quieres blanca,\n",
      "tú me quieres alba.\n",
      "\n",
      "Tú que hubiste todas\n",
      "las copas a mano,\n",
      "de frutos y mieles\n",
      "los labios morados.\n",
      "Tú que en el banquete\n",
      "cubierto de pámpanos\n",
      "dejaste las carnes\n",
      "festejando a Baco.\n",
      "Tú que en los jardines\n",
      "negros del Engaño\n",
      "vestido de rojo\n",
      "corriste al Estrago.\n",
      "\n",
      "Tú que el esqueleto\n",
      "conservas intacto\n",
      "no sé todavía\n",
      "por cuáles milagros,\n",
      "me pretendes blanca\n",
      "(Dios te lo perdone),\n",
      "me pretendes casta\n",
      "(Dios te lo perdone),\n",
      "¡me pretendes alba!\n",
      "\n",
      "Huye hacia los bosques,\n",
      "vete a la montaña;\n",
      "límpiate la boca;\n",
      "vive en las cabañas;\n",
      "toca con las manos\n",
      "la tierra mojada;\n",
      "alimenta el cuerpo\n",
      "con raíz amarga;\n",
      "bebe de las rocas;\n",
      "duerme sobre escarcha;\n",
      "renueva tejidos\n",
      "con salitre y agua:\n",
      "\n",
      "Habla con los pájaros\n",
      "y lévate al alba.\n",
      "Y cuando las carnes\n",
      "te sean tornadas,\n",
      "y cuando hayas puesto\n",
      "en ellas el alma\n",
      "que por las alcobas\n",
      "se quedó enredada,\n",
      "entonces, buen hombre,\n",
      "preténdeme blanca,\n",
      "preténdeme nívea,\n",
      "preténdeme casta.\n"
     ]
    }
   ],
   "source": [
    "ruta_archivo = r\"C:\\Users\\Carlo\\Downloads\\tu_me_quieres_blanca.txt\"\n",
    "\n",
    "with open(ruta_archivo, \"r\", encoding=\"utf-8\") as file:\n",
    "    contenido = file.read()  # Leer todo el contenido del archivo\n",
    "    file.close()\n",
    "    print(contenido)\n",
    "\n"
   ]
  },
  {
   "cell_type": "code",
   "execution_count": 45,
   "metadata": {},
   "outputs": [],
   "source": [
    "import re"
   ]
  },
  {
   "cell_type": "code",
   "execution_count": 46,
   "metadata": {},
   "outputs": [],
   "source": [
    "def creador_diccionarios(contenido):\n",
    "\n",
    "    \"\"\"\n",
    "    Crea un diccionario que agrupa palabras por su letra inicial y cuenta sus ocurrencias.\n",
    "    \"\"\"\n",
    "    \n",
    "    abecedario = \"abcdefghijklmnñopqrstuvwxyz\"\n",
    "    diccionario_global = {letra: {} for letra in abecedario}\n",
    "    palabras = re.split(r\"[',.;:()!¡\\s\\n]+\", contenido)\n",
    "\n",
    "    for palabra in palabras:\n",
    "        palabra = palabra.lower()\n",
    "        if not palabra:  # Si la palabra está vacía, se salta\n",
    "            continue\n",
    "        if palabra[0] in abecedario:\n",
    "            if palabra in diccionario_global[palabra[0]]:\n",
    "                diccionario_global[palabra[0]][palabra] += 1\n",
    "            else:\n",
    "                diccionario_global[palabra[0]][palabra] = 1\n",
    "\n",
    "    return diccionario_global"
   ]
  },
  {
   "cell_type": "markdown",
   "metadata": {},
   "source": [
    "palabra = re.split(r\"['',.;:()!¡\\s\\n]+\", contenido.lower())\n",
    "palabras = [palabra for palabra in palabra if palabra != '']"
   ]
  },
  {
   "cell_type": "code",
   "execution_count": 47,
   "metadata": {},
   "outputs": [
    {
     "data": {
      "text/plain": [
       "{'a': {'alba': 4,\n",
       "  'azucena': 1,\n",
       "  'a': 3,\n",
       "  'al': 2,\n",
       "  'alimenta': 1,\n",
       "  'amarga': 1,\n",
       "  'agua': 1,\n",
       "  'alma': 1,\n",
       "  'alcobas': 1},\n",
       " 'b': {'blanca': 3,\n",
       "  'banquete': 1,\n",
       "  'baco': 1,\n",
       "  'bosques': 1,\n",
       "  'boca': 1,\n",
       "  'bebe': 1,\n",
       "  'buen': 1},\n",
       " 'c': {'casta': 3,\n",
       "  'corola': 1,\n",
       "  'cerrada': 1,\n",
       "  'copas': 1,\n",
       "  'cubierto': 1,\n",
       "  'carnes': 2,\n",
       "  'corriste': 1,\n",
       "  'conservas': 1,\n",
       "  'cuáles': 1,\n",
       "  'cabañas': 1,\n",
       "  'con': 4,\n",
       "  'cuerpo': 1,\n",
       "  'cuando': 2},\n",
       " 'd': {'de': 8, 'diga': 1, 'dejaste': 1, 'del': 1, 'dios': 2, 'duerme': 1},\n",
       " 'e': {'espumas': 1,\n",
       "  'en': 4,\n",
       "  'el': 4,\n",
       "  'engaño': 1,\n",
       "  'estrago': 1,\n",
       "  'esqueleto': 1,\n",
       "  'escarcha': 1,\n",
       "  'ellas': 1,\n",
       "  'enredada': 1,\n",
       "  'entonces': 1},\n",
       " 'f': {'filtrado': 1, 'frutos': 1, 'festejando': 1},\n",
       " 'g': {},\n",
       " 'h': {'haya': 1,\n",
       "  'hermana': 1,\n",
       "  'hubiste': 1,\n",
       "  'huye': 1,\n",
       "  'hacia': 1,\n",
       "  'habla': 1,\n",
       "  'hayas': 1,\n",
       "  'hombre': 1},\n",
       " 'i': {'intacto': 1},\n",
       " 'j': {'jardines': 1},\n",
       " 'k': {},\n",
       " 'l': {'luna': 1,\n",
       "  'las': 7,\n",
       "  'los': 4,\n",
       "  'labios': 1,\n",
       "  'lo': 2,\n",
       "  'la': 3,\n",
       "  'límpiate': 1,\n",
       "  'lévate': 1},\n",
       " 'm': {'me': 10,\n",
       "  'margarita': 1,\n",
       "  'mi': 1,\n",
       "  'mano': 1,\n",
       "  'mieles': 1,\n",
       "  'morados': 1,\n",
       "  'milagros': 1,\n",
       "  'montaña': 1,\n",
       "  'manos': 1,\n",
       "  'mojada': 1},\n",
       " 'n': {'nácar': 1, 'ni': 2, 'nívea': 2, 'negros': 1, 'no': 1},\n",
       " 'ñ': {},\n",
       " 'o': {},\n",
       " 'p': {'perfume': 1,\n",
       "  'pámpanos': 1,\n",
       "  'por': 2,\n",
       "  'pretendes': 3,\n",
       "  'perdone': 2,\n",
       "  'pájaros': 1,\n",
       "  'puesto': 1,\n",
       "  'preténdeme': 3},\n",
       " 'q': {'quieres': 6, 'que': 6, 'quedó': 1},\n",
       " 'r': {'rayo': 1, 'rojo': 1, 'raíz': 1, 'rocas': 1, 'renueva': 1},\n",
       " 's': {'sea': 1, 'sobre': 2, 'se': 2, 'sé': 1, 'salitre': 1, 'sean': 1},\n",
       " 't': {'tú': 8,\n",
       "  'todas': 2,\n",
       "  'tenue': 1,\n",
       "  'todavía': 1,\n",
       "  'te': 3,\n",
       "  'toca': 1,\n",
       "  'tierra': 1,\n",
       "  'tejidos': 1,\n",
       "  'tornadas': 1},\n",
       " 'u': {'un': 1, 'una': 1},\n",
       " 'v': {'vestido': 1, 'vete': 1, 'vive': 1},\n",
       " 'w': {},\n",
       " 'x': {},\n",
       " 'y': {'y': 5},\n",
       " 'z': {}}"
      ]
     },
     "execution_count": 47,
     "metadata": {},
     "output_type": "execute_result"
    }
   ],
   "source": [
    "sprint7_3 = creador_diccionarios(contenido)\n",
    "sprint7_3"
   ]
  }
 ],
 "metadata": {
  "kernelspec": {
   "display_name": "Python 3",
   "language": "python",
   "name": "python3"
  },
  "language_info": {
   "codemirror_mode": {
    "name": "ipython",
    "version": 3
   },
   "file_extension": ".py",
   "mimetype": "text/x-python",
   "name": "python",
   "nbconvert_exporter": "python",
   "pygments_lexer": "ipython3",
   "version": "3.13.2"
  }
 },
 "nbformat": 4,
 "nbformat_minor": 2
}
